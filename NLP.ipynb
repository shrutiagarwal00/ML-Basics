{
 "cells": [
  {
   "cell_type": "markdown",
   "id": "d9bcdbd2-3401-41ad-a83f-830e9346e607",
   "metadata": {
    "id": "d9bcdbd2-3401-41ad-a83f-830e9346e607"
   },
   "source": [
    "# **Applied Machine Learning Homework 5: NLP**\n",
    "**Due May 2,2023 (Tuesday) 11:59PM EST**"
   ]
  },
  {
   "cell_type": "markdown",
   "id": "EyLMOVXq-bBX",
   "metadata": {
    "id": "EyLMOVXq-bBX"
   },
   "source": [
    "### Instructions\n",
    "\n",
    "1) Please push the .ipynb and .pdf to Github Classroom prior to the deadline, .py file is optional (not needed).<br>\n",
    "2) Please include your Name and UNI below."
   ]
  },
  {
   "cell_type": "markdown",
   "id": "leint4ja8V77",
   "metadata": {
    "id": "leint4ja8V77"
   },
   "source": [
    "##Name:  Shruti Agarwal\n",
    "##UNI: sa4136"
   ]
  },
  {
   "cell_type": "markdown",
   "id": "70df26be-5638-4b0d-a252-4437eb76aa46",
   "metadata": {
    "id": "70df26be-5638-4b0d-a252-4437eb76aa46"
   },
   "source": [
    "### Natural Language Processing\n",
    "We will train a supervised training model to predict if a tweet has a positive or negative sentiment."
   ]
  },
  {
   "cell_type": "markdown",
   "id": "2e0d9a19-25ea-4490-b0e8-7909bcdc3d9d",
   "metadata": {
    "id": "2e0d9a19-25ea-4490-b0e8-7909bcdc3d9d"
   },
   "source": [
    "####  **Dataset loading & dev/test splits**"
   ]
  },
  {
   "cell_type": "markdown",
   "id": "fafa37c4-c8fc-4697-9bbe-11539d710bf7",
   "metadata": {
    "id": "fafa37c4-c8fc-4697-9bbe-11539d710bf7"
   },
   "source": [
    "**1.1) Load the twitter dataset from NLTK library**"
   ]
  },
  {
   "cell_type": "code",
   "execution_count": 1,
   "id": "5f4ce405-237b-42d2-9c81-25ff28deaf4a",
   "metadata": {
    "colab": {
     "base_uri": "https://localhost:8080/"
    },
    "executionInfo": {
     "elapsed": 7559,
     "status": "ok",
     "timestamp": 1680552434830,
     "user": {
      "displayName": "Pooja Srinivasan",
      "userId": "13687370184540140629"
     },
     "user_tz": 240
    },
    "id": "5f4ce405-237b-42d2-9c81-25ff28deaf4a",
    "outputId": "eda237da-0b39-4e12-9a55-54623dddfcb4"
   },
   "outputs": [
    {
     "name": "stderr",
     "output_type": "stream",
     "text": [
      "[nltk_data] Downloading package twitter_samples to\n",
      "[nltk_data]     /Users/shrutiagarwal/nltk_data...\n",
      "[nltk_data]   Unzipping corpora/twitter_samples.zip.\n",
      "[nltk_data] Downloading package punkt to\n",
      "[nltk_data]     /Users/shrutiagarwal/nltk_data...\n",
      "[nltk_data]   Package punkt is already up-to-date!\n",
      "[nltk_data] Downloading package stopwords to\n",
      "[nltk_data]     /Users/shrutiagarwal/nltk_data...\n",
      "[nltk_data]   Package stopwords is already up-to-date!\n"
     ]
    }
   ],
   "source": [
    "import nltk\n",
    "nltk.download('twitter_samples')\n",
    "from nltk.corpus import twitter_samples \n",
    "nltk.download('punkt')\n",
    "nltk.download('stopwords')\n",
    "\n",
    "import warnings\n",
    "warnings.filterwarnings(\"ignore\")\n",
    "\n",
    "from nltk.corpus import stopwords\n",
    "stop = stopwords.words('english')\n",
    "import pandas as pd\n",
    "import string\n",
    "import re\n",
    "from sklearn.model_selection import train_test_split\n",
    "from nltk.stem import PorterStemmer\n",
    "from nltk.tokenize import word_tokenize\n",
    "from sklearn.feature_extraction.text import CountVectorizer\n",
    "from sklearn.linear_model import LogisticRegression\n",
    "from sklearn.feature_extraction.text import TfidfVectorizer\n",
    "from sklearn.metrics import classification_report, accuracy_score\n",
    "import numpy as np\n",
    "# Feel free to import any other packages you need"
   ]
  },
  {
   "cell_type": "markdown",
   "id": "c41d62ce-3c78-4b6c-9238-111d990d170f",
   "metadata": {
    "id": "c41d62ce-3c78-4b6c-9238-111d990d170f"
   },
   "source": [
    "**1.2) Load the positive & negative tweets**"
   ]
  },
  {
   "cell_type": "code",
   "execution_count": 2,
   "id": "b92fb408-f72a-4c23-acd8-7c944a52edd3",
   "metadata": {
    "id": "b92fb408-f72a-4c23-acd8-7c944a52edd3"
   },
   "outputs": [],
   "source": [
    "all_positive_tweets = twitter_samples.strings('positive_tweets.json')\n",
    "all_negative_tweets = twitter_samples.strings('negative_tweets.json')"
   ]
  },
  {
   "cell_type": "markdown",
   "id": "Vy1K6hxAjfbi",
   "metadata": {
    "id": "Vy1K6hxAjfbi"
   },
   "source": [
    "**1.3) Make a data frame that has all tweets and their corresponding labels**"
   ]
  },
  {
   "cell_type": "code",
   "execution_count": 3,
   "id": "6611bdc8",
   "metadata": {
    "id": "6611bdc8"
   },
   "outputs": [
    {
     "data": {
      "text/html": [
       "<div>\n",
       "<style scoped>\n",
       "    .dataframe tbody tr th:only-of-type {\n",
       "        vertical-align: middle;\n",
       "    }\n",
       "\n",
       "    .dataframe tbody tr th {\n",
       "        vertical-align: top;\n",
       "    }\n",
       "\n",
       "    .dataframe thead th {\n",
       "        text-align: right;\n",
       "    }\n",
       "</style>\n",
       "<table border=\"1\" class=\"dataframe\">\n",
       "  <thead>\n",
       "    <tr style=\"text-align: right;\">\n",
       "      <th></th>\n",
       "      <th>Tweet</th>\n",
       "      <th>Label</th>\n",
       "    </tr>\n",
       "  </thead>\n",
       "  <tbody>\n",
       "    <tr>\n",
       "      <th>0</th>\n",
       "      <td>hopeless for tmr :(</td>\n",
       "      <td>negative</td>\n",
       "    </tr>\n",
       "    <tr>\n",
       "      <th>1</th>\n",
       "      <td>Everything in the kids section of IKEA is so c...</td>\n",
       "      <td>negative</td>\n",
       "    </tr>\n",
       "    <tr>\n",
       "      <th>2</th>\n",
       "      <td>@Hegelbon That heart sliding into the waste ba...</td>\n",
       "      <td>negative</td>\n",
       "    </tr>\n",
       "    <tr>\n",
       "      <th>3</th>\n",
       "      <td>“@ketchBurning: I hate Japanese call him \"bani...</td>\n",
       "      <td>negative</td>\n",
       "    </tr>\n",
       "    <tr>\n",
       "      <th>4</th>\n",
       "      <td>Dang starting next week I have \"work\" :(</td>\n",
       "      <td>negative</td>\n",
       "    </tr>\n",
       "    <tr>\n",
       "      <th>...</th>\n",
       "      <td>...</td>\n",
       "      <td>...</td>\n",
       "    </tr>\n",
       "    <tr>\n",
       "      <th>9995</th>\n",
       "      <td>@chriswiggin3 Chris, that's great to hear :) D...</td>\n",
       "      <td>positive</td>\n",
       "    </tr>\n",
       "    <tr>\n",
       "      <th>9996</th>\n",
       "      <td>@RachelLiskeard Thanks for the shout-out :) It...</td>\n",
       "      <td>positive</td>\n",
       "    </tr>\n",
       "    <tr>\n",
       "      <th>9997</th>\n",
       "      <td>@side556 Hey!  :)  Long time no talk...</td>\n",
       "      <td>positive</td>\n",
       "    </tr>\n",
       "    <tr>\n",
       "      <th>9998</th>\n",
       "      <td>@staybubbly69 as Matt would say. WELCOME TO AD...</td>\n",
       "      <td>positive</td>\n",
       "    </tr>\n",
       "    <tr>\n",
       "      <th>9999</th>\n",
       "      <td>@DanielOConnel18 you could say he will have eg...</td>\n",
       "      <td>positive</td>\n",
       "    </tr>\n",
       "  </tbody>\n",
       "</table>\n",
       "<p>10000 rows × 2 columns</p>\n",
       "</div>"
      ],
      "text/plain": [
       "                                                  Tweet     Label\n",
       "0                                   hopeless for tmr :(  negative\n",
       "1     Everything in the kids section of IKEA is so c...  negative\n",
       "2     @Hegelbon That heart sliding into the waste ba...  negative\n",
       "3     “@ketchBurning: I hate Japanese call him \"bani...  negative\n",
       "4              Dang starting next week I have \"work\" :(  negative\n",
       "...                                                 ...       ...\n",
       "9995  @chriswiggin3 Chris, that's great to hear :) D...  positive\n",
       "9996  @RachelLiskeard Thanks for the shout-out :) It...  positive\n",
       "9997            @side556 Hey!  :)  Long time no talk...  positive\n",
       "9998  @staybubbly69 as Matt would say. WELCOME TO AD...  positive\n",
       "9999  @DanielOConnel18 you could say he will have eg...  positive\n",
       "\n",
       "[10000 rows x 2 columns]"
      ]
     },
     "execution_count": 3,
     "metadata": {},
     "output_type": "execute_result"
    }
   ],
   "source": [
    "# Your Code Here\n",
    "all_tweets = all_negative_tweets + all_positive_tweets\n",
    "\n",
    "# Create a list of labels\n",
    "labels = [\"negative\"] * len(all_negative_tweets) + [\"positive\"] * len(all_positive_tweets)\n",
    "\n",
    "# Create a dataframe with two columns: \"tweet\" and \"label\"\n",
    "df = pd.DataFrame({\"Tweet\": all_tweets, \"Label\": labels})\n",
    "\n",
    "# Print the dataframe\n",
    "df"
   ]
  },
  {
   "cell_type": "markdown",
   "id": "xisDSGVanceN",
   "metadata": {
    "id": "xisDSGVanceN"
   },
   "source": [
    "**1.4) Look at the class distribution of the tweets**"
   ]
  },
  {
   "cell_type": "code",
   "execution_count": 4,
   "id": "xv8oL2_gnYra",
   "metadata": {
    "id": "xv8oL2_gnYra"
   },
   "outputs": [
    {
     "data": {
      "text/plain": [
       "negative    5000\n",
       "positive    5000\n",
       "Name: Label, dtype: int64"
      ]
     },
     "execution_count": 4,
     "metadata": {},
     "output_type": "execute_result"
    }
   ],
   "source": [
    "# Your Code Here\n",
    "\n",
    "class_dist = df[\"Label\"].value_counts()\n",
    "class_dist"
   ]
  },
  {
   "cell_type": "markdown",
   "id": "12eae071-fd8a-4a46-9958-0525c635fd88",
   "metadata": {
    "id": "12eae071-fd8a-4a46-9958-0525c635fd88"
   },
   "source": [
    "**1.5) Create a development & test split (80/20 ratio):**"
   ]
  },
  {
   "cell_type": "code",
   "execution_count": 5,
   "id": "0f3673db-d7a8-470b-a3d3-f4522cd359b8",
   "metadata": {
    "id": "0f3673db-d7a8-470b-a3d3-f4522cd359b8"
   },
   "outputs": [
    {
     "name": "stdout",
     "output_type": "stream",
     "text": [
      "Development set size: 8000\n",
      "Test set size: 2000\n"
     ]
    }
   ],
   "source": [
    "# Your Code Here\n",
    "\n",
    "# split the dataframe into development and test sets\n",
    "dev_set, test_set = train_test_split(df, test_size=0.2, random_state=42)\n",
    "\n",
    "# print the sizes of the resulting sets\n",
    "print(\"Development set size:\", len(dev_set))\n",
    "print(\"Test set size:\", len(test_set))"
   ]
  },
  {
   "cell_type": "markdown",
   "id": "32b23398-e80e-4624-b89e-c02fabfd3f8d",
   "metadata": {
    "id": "32b23398-e80e-4624-b89e-c02fabfd3f8d"
   },
   "source": [
    "#### **Data preprocessing**\n",
    "We will do some data preprocessing before we tokenize the data. We will remove `#` symbol, hyperlinks, stop words & punctuations from the data. You can use the `re` package in python to find and replace these strings. "
   ]
  },
  {
   "cell_type": "markdown",
   "id": "f89d9d69-1640-4583-a7b7-7ec04ccf3310",
   "metadata": {
    "id": "f89d9d69-1640-4583-a7b7-7ec04ccf3310"
   },
   "source": [
    "**1.6) Replace the `#` symbol with '' in every tweet**"
   ]
  },
  {
   "cell_type": "code",
   "execution_count": 6,
   "id": "5db4dd6d-e775-49d3-96e1-57620c042d46",
   "metadata": {
    "id": "5db4dd6d-e775-49d3-96e1-57620c042d46"
   },
   "outputs": [
    {
     "data": {
      "text/html": [
       "<div>\n",
       "<style scoped>\n",
       "    .dataframe tbody tr th:only-of-type {\n",
       "        vertical-align: middle;\n",
       "    }\n",
       "\n",
       "    .dataframe tbody tr th {\n",
       "        vertical-align: top;\n",
       "    }\n",
       "\n",
       "    .dataframe thead th {\n",
       "        text-align: right;\n",
       "    }\n",
       "</style>\n",
       "<table border=\"1\" class=\"dataframe\">\n",
       "  <thead>\n",
       "    <tr style=\"text-align: right;\">\n",
       "      <th></th>\n",
       "      <th>Tweet</th>\n",
       "      <th>Label</th>\n",
       "    </tr>\n",
       "  </thead>\n",
       "  <tbody>\n",
       "    <tr>\n",
       "      <th>9254</th>\n",
       "      <td>Friday!:) http://t.co/HUoq4txhmb</td>\n",
       "      <td>positive</td>\n",
       "    </tr>\n",
       "    <tr>\n",
       "      <th>1561</th>\n",
       "      <td>sorry for always changing my layout :(</td>\n",
       "      <td>negative</td>\n",
       "    </tr>\n",
       "    <tr>\n",
       "      <th>1670</th>\n",
       "      <td>&amp;lt;3 &amp;lt;3 awsme song &amp;lt;3 :-* :-( :-( :'( h...</td>\n",
       "      <td>negative</td>\n",
       "    </tr>\n",
       "    <tr>\n",
       "      <th>6087</th>\n",
       "      <td>@bwoyblunder @rajudasonline Sorted :). Thanks....</td>\n",
       "      <td>positive</td>\n",
       "    </tr>\n",
       "    <tr>\n",
       "      <th>6669</th>\n",
       "      <td>@narrhallamarsch Good Flight! :)</td>\n",
       "      <td>positive</td>\n",
       "    </tr>\n",
       "    <tr>\n",
       "      <th>...</th>\n",
       "      <td>...</td>\n",
       "      <td>...</td>\n",
       "    </tr>\n",
       "    <tr>\n",
       "      <th>5734</th>\n",
       "      <td>@ChaSilveo  follow @jnlazts &amp;amp; http://t.co/...</td>\n",
       "      <td>positive</td>\n",
       "    </tr>\n",
       "    <tr>\n",
       "      <th>5191</th>\n",
       "      <td>Hi BAM ! @BarsAndMelody \\nCan you follow my be...</td>\n",
       "      <td>positive</td>\n",
       "    </tr>\n",
       "    <tr>\n",
       "      <th>5390</th>\n",
       "      <td>@hostclubhowell no prob!:)</td>\n",
       "      <td>positive</td>\n",
       "    </tr>\n",
       "    <tr>\n",
       "      <th>860</th>\n",
       "      <td>@dullandwicked @_GrahamPatrick @JohnBoyStyle H...</td>\n",
       "      <td>negative</td>\n",
       "    </tr>\n",
       "    <tr>\n",
       "      <th>7270</th>\n",
       "      <td>Unreal training boys!\\nAwesome work Zaine, Zac...</td>\n",
       "      <td>positive</td>\n",
       "    </tr>\n",
       "  </tbody>\n",
       "</table>\n",
       "<p>8000 rows × 2 columns</p>\n",
       "</div>"
      ],
      "text/plain": [
       "                                                  Tweet     Label\n",
       "9254                   Friday!:) http://t.co/HUoq4txhmb  positive\n",
       "1561             sorry for always changing my layout :(  negative\n",
       "1670  &lt;3 &lt;3 awsme song &lt;3 :-* :-( :-( :'( h...  negative\n",
       "6087  @bwoyblunder @rajudasonline Sorted :). Thanks....  positive\n",
       "6669                   @narrhallamarsch Good Flight! :)  positive\n",
       "...                                                 ...       ...\n",
       "5734  @ChaSilveo  follow @jnlazts &amp; http://t.co/...  positive\n",
       "5191  Hi BAM ! @BarsAndMelody \\nCan you follow my be...  positive\n",
       "5390                         @hostclubhowell no prob!:)  positive\n",
       "860   @dullandwicked @_GrahamPatrick @JohnBoyStyle H...  negative\n",
       "7270  Unreal training boys!\\nAwesome work Zaine, Zac...  positive\n",
       "\n",
       "[8000 rows x 2 columns]"
      ]
     },
     "execution_count": 6,
     "metadata": {},
     "output_type": "execute_result"
    }
   ],
   "source": [
    "# Your Code Here\n",
    "\n",
    "# define a function to remove the '#' symbol from a string\n",
    "def remove_hashtags(text):\n",
    "    return re.sub(r'#', '', text)\n",
    "\n",
    "# apply the function to every tweet in the dataframe\n",
    "dev_set[\"Tweet\"] = dev_set[\"Tweet\"].apply(remove_hashtags)\n",
    "test_set[\"Tweet\"] = test_set[\"Tweet\"].apply(remove_hashtags)\n",
    "\n",
    "# print the resulting dataframe\n",
    "dev_set"
   ]
  },
  {
   "cell_type": "markdown",
   "id": "24c4caa8-d71d-46a8-8859-a8e85c56acfe",
   "metadata": {
    "id": "24c4caa8-d71d-46a8-8859-a8e85c56acfe"
   },
   "source": [
    "**1.7) Replace hyperlinks with '' in every tweet**"
   ]
  },
  {
   "cell_type": "code",
   "execution_count": 7,
   "id": "I20m5bIZqp9S",
   "metadata": {
    "id": "I20m5bIZqp9S"
   },
   "outputs": [
    {
     "data": {
      "text/html": [
       "<div>\n",
       "<style scoped>\n",
       "    .dataframe tbody tr th:only-of-type {\n",
       "        vertical-align: middle;\n",
       "    }\n",
       "\n",
       "    .dataframe tbody tr th {\n",
       "        vertical-align: top;\n",
       "    }\n",
       "\n",
       "    .dataframe thead th {\n",
       "        text-align: right;\n",
       "    }\n",
       "</style>\n",
       "<table border=\"1\" class=\"dataframe\">\n",
       "  <thead>\n",
       "    <tr style=\"text-align: right;\">\n",
       "      <th></th>\n",
       "      <th>Tweet</th>\n",
       "      <th>Label</th>\n",
       "    </tr>\n",
       "  </thead>\n",
       "  <tbody>\n",
       "    <tr>\n",
       "      <th>9254</th>\n",
       "      <td>Friday!:)</td>\n",
       "      <td>positive</td>\n",
       "    </tr>\n",
       "    <tr>\n",
       "      <th>1561</th>\n",
       "      <td>sorry for always changing my layout :(</td>\n",
       "      <td>negative</td>\n",
       "    </tr>\n",
       "    <tr>\n",
       "      <th>1670</th>\n",
       "      <td>&amp;lt;3 &amp;lt;3 awsme song &amp;lt;3 :-* :-( :-( :'(</td>\n",
       "      <td>negative</td>\n",
       "    </tr>\n",
       "    <tr>\n",
       "      <th>6087</th>\n",
       "      <td>@bwoyblunder @rajudasonline Sorted :). Thanks....</td>\n",
       "      <td>positive</td>\n",
       "    </tr>\n",
       "    <tr>\n",
       "      <th>6669</th>\n",
       "      <td>@narrhallamarsch Good Flight! :)</td>\n",
       "      <td>positive</td>\n",
       "    </tr>\n",
       "    <tr>\n",
       "      <th>...</th>\n",
       "      <td>...</td>\n",
       "      <td>...</td>\n",
       "    </tr>\n",
       "    <tr>\n",
       "      <th>5734</th>\n",
       "      <td>@ChaSilveo  follow @jnlazts &amp;amp;  follow u ba...</td>\n",
       "      <td>positive</td>\n",
       "    </tr>\n",
       "    <tr>\n",
       "      <th>5191</th>\n",
       "      <td>Hi BAM ! @BarsAndMelody \\nCan you follow my be...</td>\n",
       "      <td>positive</td>\n",
       "    </tr>\n",
       "    <tr>\n",
       "      <th>5390</th>\n",
       "      <td>@hostclubhowell no prob!:)</td>\n",
       "      <td>positive</td>\n",
       "    </tr>\n",
       "    <tr>\n",
       "      <th>860</th>\n",
       "      <td>@dullandwicked @_GrahamPatrick @JohnBoyStyle H...</td>\n",
       "      <td>negative</td>\n",
       "    </tr>\n",
       "    <tr>\n",
       "      <th>7270</th>\n",
       "      <td>Unreal training boys!\\nAwesome work Zaine, Zac...</td>\n",
       "      <td>positive</td>\n",
       "    </tr>\n",
       "  </tbody>\n",
       "</table>\n",
       "<p>8000 rows × 2 columns</p>\n",
       "</div>"
      ],
      "text/plain": [
       "                                                  Tweet     Label\n",
       "9254                                         Friday!:)   positive\n",
       "1561             sorry for always changing my layout :(  negative\n",
       "1670      &lt;3 &lt;3 awsme song &lt;3 :-* :-( :-( :'(   negative\n",
       "6087  @bwoyblunder @rajudasonline Sorted :). Thanks....  positive\n",
       "6669                   @narrhallamarsch Good Flight! :)  positive\n",
       "...                                                 ...       ...\n",
       "5734  @ChaSilveo  follow @jnlazts &amp;  follow u ba...  positive\n",
       "5191  Hi BAM ! @BarsAndMelody \\nCan you follow my be...  positive\n",
       "5390                         @hostclubhowell no prob!:)  positive\n",
       "860   @dullandwicked @_GrahamPatrick @JohnBoyStyle H...  negative\n",
       "7270  Unreal training boys!\\nAwesome work Zaine, Zac...  positive\n",
       "\n",
       "[8000 rows x 2 columns]"
      ]
     },
     "execution_count": 7,
     "metadata": {},
     "output_type": "execute_result"
    }
   ],
   "source": [
    "# Your Code Here\n",
    "\n",
    "def remove_hyperlinks(text):\n",
    "    return re.sub(r'http\\S+', '', text)\n",
    "\n",
    "# apply the function to every tweet in the dataframe\n",
    "dev_set[\"Tweet\"] = dev_set[\"Tweet\"].apply(remove_hyperlinks)\n",
    "test_set[\"Tweet\"] = test_set[\"Tweet\"].apply(remove_hyperlinks)\n",
    "\n",
    "# print the resulting dataframe\n",
    "dev_set"
   ]
  },
  {
   "cell_type": "markdown",
   "id": "492ae463-b611-4292-9ad2-b778856bf8bc",
   "metadata": {
    "id": "492ae463-b611-4292-9ad2-b778856bf8bc"
   },
   "source": [
    "**1.8) Remove all stop words**"
   ]
  },
  {
   "cell_type": "code",
   "execution_count": 8,
   "id": "HA-1Qs8Vz4mB",
   "metadata": {
    "id": "HA-1Qs8Vz4mB"
   },
   "outputs": [
    {
     "data": {
      "text/html": [
       "<div>\n",
       "<style scoped>\n",
       "    .dataframe tbody tr th:only-of-type {\n",
       "        vertical-align: middle;\n",
       "    }\n",
       "\n",
       "    .dataframe tbody tr th {\n",
       "        vertical-align: top;\n",
       "    }\n",
       "\n",
       "    .dataframe thead th {\n",
       "        text-align: right;\n",
       "    }\n",
       "</style>\n",
       "<table border=\"1\" class=\"dataframe\">\n",
       "  <thead>\n",
       "    <tr style=\"text-align: right;\">\n",
       "      <th></th>\n",
       "      <th>Tweet</th>\n",
       "      <th>Label</th>\n",
       "    </tr>\n",
       "  </thead>\n",
       "  <tbody>\n",
       "    <tr>\n",
       "      <th>9254</th>\n",
       "      <td>Friday!:)</td>\n",
       "      <td>positive</td>\n",
       "    </tr>\n",
       "    <tr>\n",
       "      <th>1561</th>\n",
       "      <td>sorry always changing layout :(</td>\n",
       "      <td>negative</td>\n",
       "    </tr>\n",
       "    <tr>\n",
       "      <th>1670</th>\n",
       "      <td>&amp;lt;3 &amp;lt;3 awsme song &amp;lt;3 :-* :-( :-( :'(</td>\n",
       "      <td>negative</td>\n",
       "    </tr>\n",
       "    <tr>\n",
       "      <th>6087</th>\n",
       "      <td>@bwoyblunder @rajudasonline Sorted :). Thanks....</td>\n",
       "      <td>positive</td>\n",
       "    </tr>\n",
       "    <tr>\n",
       "      <th>6669</th>\n",
       "      <td>@narrhallamarsch Good Flight! :)</td>\n",
       "      <td>positive</td>\n",
       "    </tr>\n",
       "    <tr>\n",
       "      <th>...</th>\n",
       "      <td>...</td>\n",
       "      <td>...</td>\n",
       "    </tr>\n",
       "    <tr>\n",
       "      <th>5734</th>\n",
       "      <td>@ChaSilveo follow @jnlazts &amp;amp; follow u back :)</td>\n",
       "      <td>positive</td>\n",
       "    </tr>\n",
       "    <tr>\n",
       "      <th>5191</th>\n",
       "      <td>Hi BAM ! @BarsAndMelody follow bestfriend @969...</td>\n",
       "      <td>positive</td>\n",
       "    </tr>\n",
       "    <tr>\n",
       "      <th>5390</th>\n",
       "      <td>@hostclubhowell prob!:)</td>\n",
       "      <td>positive</td>\n",
       "    </tr>\n",
       "    <tr>\n",
       "      <th>860</th>\n",
       "      <td>@dullandwicked @_GrahamPatrick @JohnBoyStyle n...</td>\n",
       "      <td>negative</td>\n",
       "    </tr>\n",
       "    <tr>\n",
       "      <th>7270</th>\n",
       "      <td>Unreal training boys! Awesome work Zaine, Zac ...</td>\n",
       "      <td>positive</td>\n",
       "    </tr>\n",
       "  </tbody>\n",
       "</table>\n",
       "<p>8000 rows × 2 columns</p>\n",
       "</div>"
      ],
      "text/plain": [
       "                                                  Tweet     Label\n",
       "9254                                          Friday!:)  positive\n",
       "1561                    sorry always changing layout :(  negative\n",
       "1670       &lt;3 &lt;3 awsme song &lt;3 :-* :-( :-( :'(  negative\n",
       "6087  @bwoyblunder @rajudasonline Sorted :). Thanks....  positive\n",
       "6669                   @narrhallamarsch Good Flight! :)  positive\n",
       "...                                                 ...       ...\n",
       "5734  @ChaSilveo follow @jnlazts &amp; follow u back :)  positive\n",
       "5191  Hi BAM ! @BarsAndMelody follow bestfriend @969...  positive\n",
       "5390                            @hostclubhowell prob!:)  positive\n",
       "860   @dullandwicked @_GrahamPatrick @JohnBoyStyle n...  negative\n",
       "7270  Unreal training boys! Awesome work Zaine, Zac ...  positive\n",
       "\n",
       "[8000 rows x 2 columns]"
      ]
     },
     "execution_count": 8,
     "metadata": {},
     "output_type": "execute_result"
    }
   ],
   "source": [
    "# Your Code Here\n",
    "\n",
    "# define a function to remove stop words from a string\n",
    "def remove_stopwords(text):\n",
    "    stop_words = set(stopwords.words('english'))\n",
    "    words = text.split()\n",
    "    filtered_words = [word for word in words if word.lower() not in stop_words]\n",
    "    return ' '.join(filtered_words)\n",
    "\n",
    "# apply the function to every tweet in the dataframe\n",
    "dev_set[\"Tweet\"] = dev_set[\"Tweet\"].apply(remove_stopwords)\n",
    "test_set[\"Tweet\"] = test_set[\"Tweet\"].apply(remove_stopwords)\n",
    "\n",
    "# print the resulting dataframe\n",
    "dev_set"
   ]
  },
  {
   "cell_type": "markdown",
   "id": "169bf8ad-f7ba-4e67-a1a0-92fcdd193ab9",
   "metadata": {
    "id": "169bf8ad-f7ba-4e67-a1a0-92fcdd193ab9"
   },
   "source": [
    "**1.9) Remove all punctuations**"
   ]
  },
  {
   "cell_type": "code",
   "execution_count": 9,
   "id": "5fbeaccf",
   "metadata": {
    "id": "5fbeaccf"
   },
   "outputs": [
    {
     "data": {
      "text/html": [
       "<div>\n",
       "<style scoped>\n",
       "    .dataframe tbody tr th:only-of-type {\n",
       "        vertical-align: middle;\n",
       "    }\n",
       "\n",
       "    .dataframe tbody tr th {\n",
       "        vertical-align: top;\n",
       "    }\n",
       "\n",
       "    .dataframe thead th {\n",
       "        text-align: right;\n",
       "    }\n",
       "</style>\n",
       "<table border=\"1\" class=\"dataframe\">\n",
       "  <thead>\n",
       "    <tr style=\"text-align: right;\">\n",
       "      <th></th>\n",
       "      <th>Tweet</th>\n",
       "      <th>Label</th>\n",
       "    </tr>\n",
       "  </thead>\n",
       "  <tbody>\n",
       "    <tr>\n",
       "      <th>9254</th>\n",
       "      <td>Friday</td>\n",
       "      <td>positive</td>\n",
       "    </tr>\n",
       "    <tr>\n",
       "      <th>1561</th>\n",
       "      <td>sorry always changing layout</td>\n",
       "      <td>negative</td>\n",
       "    </tr>\n",
       "    <tr>\n",
       "      <th>1670</th>\n",
       "      <td>lt3 lt3 awsme song lt3</td>\n",
       "      <td>negative</td>\n",
       "    </tr>\n",
       "    <tr>\n",
       "      <th>6087</th>\n",
       "      <td>bwoyblunder rajudasonline Sorted  Thanks Daaru...</td>\n",
       "      <td>positive</td>\n",
       "    </tr>\n",
       "    <tr>\n",
       "      <th>6669</th>\n",
       "      <td>narrhallamarsch Good Flight</td>\n",
       "      <td>positive</td>\n",
       "    </tr>\n",
       "    <tr>\n",
       "      <th>...</th>\n",
       "      <td>...</td>\n",
       "      <td>...</td>\n",
       "    </tr>\n",
       "    <tr>\n",
       "      <th>5734</th>\n",
       "      <td>ChaSilveo follow jnlazts amp follow u back</td>\n",
       "      <td>positive</td>\n",
       "    </tr>\n",
       "    <tr>\n",
       "      <th>5191</th>\n",
       "      <td>Hi BAM  BarsAndMelody follow bestfriend 969Hor...</td>\n",
       "      <td>positive</td>\n",
       "    </tr>\n",
       "    <tr>\n",
       "      <th>5390</th>\n",
       "      <td>hostclubhowell prob</td>\n",
       "      <td>positive</td>\n",
       "    </tr>\n",
       "    <tr>\n",
       "      <th>860</th>\n",
       "      <td>dullandwicked _GrahamPatrick JohnBoyStyle nobo...</td>\n",
       "      <td>negative</td>\n",
       "    </tr>\n",
       "    <tr>\n",
       "      <th>7270</th>\n",
       "      <td>Unreal training boys Awesome work Zaine Zac Is...</td>\n",
       "      <td>positive</td>\n",
       "    </tr>\n",
       "  </tbody>\n",
       "</table>\n",
       "<p>8000 rows × 2 columns</p>\n",
       "</div>"
      ],
      "text/plain": [
       "                                                  Tweet     Label\n",
       "9254                                             Friday  positive\n",
       "1561                      sorry always changing layout   negative\n",
       "1670                         lt3 lt3 awsme song lt3      negative\n",
       "6087  bwoyblunder rajudasonline Sorted  Thanks Daaru...  positive\n",
       "6669                       narrhallamarsch Good Flight   positive\n",
       "...                                                 ...       ...\n",
       "5734        ChaSilveo follow jnlazts amp follow u back   positive\n",
       "5191  Hi BAM  BarsAndMelody follow bestfriend 969Hor...  positive\n",
       "5390                                hostclubhowell prob  positive\n",
       "860   dullandwicked _GrahamPatrick JohnBoyStyle nobo...  negative\n",
       "7270  Unreal training boys Awesome work Zaine Zac Is...  positive\n",
       "\n",
       "[8000 rows x 2 columns]"
      ]
     },
     "execution_count": 9,
     "metadata": {},
     "output_type": "execute_result"
    }
   ],
   "source": [
    "# Your Code Here\n",
    "\n",
    "# define a function to remove punctuation from a string\n",
    "def remove_punctuation(text):\n",
    "    return re.sub(r'[^\\w\\s]', '', text)\n",
    "\n",
    "# apply the function to every tweet in the dataframe\n",
    "dev_set[\"Tweet\"] = dev_set[\"Tweet\"].apply(remove_punctuation)\n",
    "test_set[\"Tweet\"] = test_set[\"Tweet\"].apply(remove_punctuation)\n",
    "\n",
    "# print the resulting datafram\n",
    "dev_set"
   ]
  },
  {
   "cell_type": "markdown",
   "id": "b2f1af18-0c07-4ffb-994e-daead4740a53",
   "metadata": {
    "id": "b2f1af18-0c07-4ffb-994e-daead4740a53"
   },
   "source": [
    "**1.10) Apply stemming on the development & test datasets using Porter algorithm**"
   ]
  },
  {
   "cell_type": "code",
   "execution_count": 10,
   "id": "gSPLyHbmxC1q",
   "metadata": {
    "id": "gSPLyHbmxC1q"
   },
   "outputs": [
    {
     "data": {
      "text/html": [
       "<div>\n",
       "<style scoped>\n",
       "    .dataframe tbody tr th:only-of-type {\n",
       "        vertical-align: middle;\n",
       "    }\n",
       "\n",
       "    .dataframe tbody tr th {\n",
       "        vertical-align: top;\n",
       "    }\n",
       "\n",
       "    .dataframe thead th {\n",
       "        text-align: right;\n",
       "    }\n",
       "</style>\n",
       "<table border=\"1\" class=\"dataframe\">\n",
       "  <thead>\n",
       "    <tr style=\"text-align: right;\">\n",
       "      <th></th>\n",
       "      <th>Tweet</th>\n",
       "      <th>Label</th>\n",
       "      <th>stemmed_tweet</th>\n",
       "    </tr>\n",
       "  </thead>\n",
       "  <tbody>\n",
       "    <tr>\n",
       "      <th>9254</th>\n",
       "      <td>Friday</td>\n",
       "      <td>positive</td>\n",
       "      <td>friday</td>\n",
       "    </tr>\n",
       "    <tr>\n",
       "      <th>1561</th>\n",
       "      <td>sorry always changing layout</td>\n",
       "      <td>negative</td>\n",
       "      <td>sorri alway chang layout</td>\n",
       "    </tr>\n",
       "    <tr>\n",
       "      <th>1670</th>\n",
       "      <td>lt3 lt3 awsme song lt3</td>\n",
       "      <td>negative</td>\n",
       "      <td>lt3 lt3 awsm song lt3</td>\n",
       "    </tr>\n",
       "    <tr>\n",
       "      <th>6087</th>\n",
       "      <td>bwoyblunder rajudasonline Sorted  Thanks Daaru...</td>\n",
       "      <td>positive</td>\n",
       "      <td>bwoyblund rajudasonlin sort thank daaru parti ...</td>\n",
       "    </tr>\n",
       "    <tr>\n",
       "      <th>6669</th>\n",
       "      <td>narrhallamarsch Good Flight</td>\n",
       "      <td>positive</td>\n",
       "      <td>narrhallamarsch good flight</td>\n",
       "    </tr>\n",
       "    <tr>\n",
       "      <th>...</th>\n",
       "      <td>...</td>\n",
       "      <td>...</td>\n",
       "      <td>...</td>\n",
       "    </tr>\n",
       "    <tr>\n",
       "      <th>5734</th>\n",
       "      <td>ChaSilveo follow jnlazts amp follow u back</td>\n",
       "      <td>positive</td>\n",
       "      <td>chasilveo follow jnlazt amp follow u back</td>\n",
       "    </tr>\n",
       "    <tr>\n",
       "      <th>5191</th>\n",
       "      <td>Hi BAM  BarsAndMelody follow bestfriend 969Hor...</td>\n",
       "      <td>positive</td>\n",
       "      <td>hi bam barsandmelodi follow bestfriend 969hora...</td>\n",
       "    </tr>\n",
       "    <tr>\n",
       "      <th>5390</th>\n",
       "      <td>hostclubhowell prob</td>\n",
       "      <td>positive</td>\n",
       "      <td>hostclubhowel prob</td>\n",
       "    </tr>\n",
       "    <tr>\n",
       "      <th>860</th>\n",
       "      <td>dullandwicked _GrahamPatrick JohnBoyStyle nobo...</td>\n",
       "      <td>negative</td>\n",
       "      <td>dullandwick _grahampatrick johnboystyl nobodi ...</td>\n",
       "    </tr>\n",
       "    <tr>\n",
       "      <th>7270</th>\n",
       "      <td>Unreal training boys Awesome work Zaine Zac Is...</td>\n",
       "      <td>positive</td>\n",
       "      <td>unreal train boy awesom work zain zac isaac oss</td>\n",
       "    </tr>\n",
       "  </tbody>\n",
       "</table>\n",
       "<p>8000 rows × 3 columns</p>\n",
       "</div>"
      ],
      "text/plain": [
       "                                                  Tweet     Label  \\\n",
       "9254                                             Friday  positive   \n",
       "1561                      sorry always changing layout   negative   \n",
       "1670                         lt3 lt3 awsme song lt3      negative   \n",
       "6087  bwoyblunder rajudasonline Sorted  Thanks Daaru...  positive   \n",
       "6669                       narrhallamarsch Good Flight   positive   \n",
       "...                                                 ...       ...   \n",
       "5734        ChaSilveo follow jnlazts amp follow u back   positive   \n",
       "5191  Hi BAM  BarsAndMelody follow bestfriend 969Hor...  positive   \n",
       "5390                                hostclubhowell prob  positive   \n",
       "860   dullandwicked _GrahamPatrick JohnBoyStyle nobo...  negative   \n",
       "7270  Unreal training boys Awesome work Zaine Zac Is...  positive   \n",
       "\n",
       "                                          stemmed_tweet  \n",
       "9254                                             friday  \n",
       "1561                           sorri alway chang layout  \n",
       "1670                              lt3 lt3 awsm song lt3  \n",
       "6087  bwoyblund rajudasonlin sort thank daaru parti ...  \n",
       "6669                        narrhallamarsch good flight  \n",
       "...                                                 ...  \n",
       "5734          chasilveo follow jnlazt amp follow u back  \n",
       "5191  hi bam barsandmelodi follow bestfriend 969hora...  \n",
       "5390                                 hostclubhowel prob  \n",
       "860   dullandwick _grahampatrick johnboystyl nobodi ...  \n",
       "7270    unreal train boy awesom work zain zac isaac oss  \n",
       "\n",
       "[8000 rows x 3 columns]"
      ]
     },
     "execution_count": 10,
     "metadata": {},
     "output_type": "execute_result"
    }
   ],
   "source": [
    "# Your Code Here\n",
    "\n",
    "porter = PorterStemmer()\n",
    "dev_set['stemmed_tweet'] = dev_set['Tweet'].apply(lambda x: ' '.join([porter.stem(word) for word in word_tokenize(x)]))\n",
    "test_set['stemmed_tweet'] = test_set['Tweet'].apply(lambda x: ' '.join([porter.stem(word) for word in word_tokenize(x)]))\n",
    "\n",
    "dev_set"
   ]
  },
  {
   "cell_type": "code",
   "execution_count": 11,
   "id": "174b73fa",
   "metadata": {},
   "outputs": [
    {
     "data": {
      "text/html": [
       "<div>\n",
       "<style scoped>\n",
       "    .dataframe tbody tr th:only-of-type {\n",
       "        vertical-align: middle;\n",
       "    }\n",
       "\n",
       "    .dataframe tbody tr th {\n",
       "        vertical-align: top;\n",
       "    }\n",
       "\n",
       "    .dataframe thead th {\n",
       "        text-align: right;\n",
       "    }\n",
       "</style>\n",
       "<table border=\"1\" class=\"dataframe\">\n",
       "  <thead>\n",
       "    <tr style=\"text-align: right;\">\n",
       "      <th></th>\n",
       "      <th>Tweet</th>\n",
       "      <th>Label</th>\n",
       "      <th>stemmed_tweet</th>\n",
       "    </tr>\n",
       "  </thead>\n",
       "  <tbody>\n",
       "    <tr>\n",
       "      <th>6252</th>\n",
       "      <td>Malan_Sanjaya yes switched back  lap optimized...</td>\n",
       "      <td>positive</td>\n",
       "      <td>malan_sanjaya ye switch back lap optim window ...</td>\n",
       "    </tr>\n",
       "    <tr>\n",
       "      <th>4684</th>\n",
       "      <td>MTAP tomorrow means sleep early tonight</td>\n",
       "      <td>negative</td>\n",
       "      <td>mtap tomorrow mean sleep earli tonight</td>\n",
       "    </tr>\n",
       "    <tr>\n",
       "      <th>1731</th>\n",
       "      <td>Gotham3 sad view</td>\n",
       "      <td>negative</td>\n",
       "      <td>gotham3 sad view</td>\n",
       "    </tr>\n",
       "    <tr>\n",
       "      <th>4742</th>\n",
       "      <td>Jessica calls quits power abs 515</td>\n",
       "      <td>negative</td>\n",
       "      <td>jessica call quit power ab 515</td>\n",
       "    </tr>\n",
       "    <tr>\n",
       "      <th>4521</th>\n",
       "      <td>like cant actually put pressure ankle hop arou...</td>\n",
       "      <td>negative</td>\n",
       "      <td>like cant actual put pressur ankl hop around h...</td>\n",
       "    </tr>\n",
       "    <tr>\n",
       "      <th>...</th>\n",
       "      <td>...</td>\n",
       "      <td>...</td>\n",
       "      <td>...</td>\n",
       "    </tr>\n",
       "    <tr>\n",
       "      <th>6412</th>\n",
       "      <td>Agree  Phone WiFi LifeStyle QatarDay</td>\n",
       "      <td>positive</td>\n",
       "      <td>agre phone wifi lifestyl qatarday</td>\n",
       "    </tr>\n",
       "    <tr>\n",
       "      <th>8285</th>\n",
       "      <td>Rl191459Alex Hey thank following</td>\n",
       "      <td>positive</td>\n",
       "      <td>rl191459alex hey thank follow</td>\n",
       "    </tr>\n",
       "    <tr>\n",
       "      <th>7853</th>\n",
       "      <td>See yah Sunday carmenkvarnen</td>\n",
       "      <td>positive</td>\n",
       "      <td>see yah sunday carmenkvarnen</td>\n",
       "    </tr>\n",
       "    <tr>\n",
       "      <th>1095</th>\n",
       "      <td>didnt took photos</td>\n",
       "      <td>negative</td>\n",
       "      <td>didnt took photo</td>\n",
       "    </tr>\n",
       "    <tr>\n",
       "      <th>6929</th>\n",
       "      <td>LondonLycra see legs lycra p</td>\n",
       "      <td>positive</td>\n",
       "      <td>londonlycra see leg lycra p</td>\n",
       "    </tr>\n",
       "  </tbody>\n",
       "</table>\n",
       "<p>2000 rows × 3 columns</p>\n",
       "</div>"
      ],
      "text/plain": [
       "                                                  Tweet     Label  \\\n",
       "6252  Malan_Sanjaya yes switched back  lap optimized...  positive   \n",
       "4684           MTAP tomorrow means sleep early tonight   negative   \n",
       "1731                                  Gotham3 sad view   negative   \n",
       "4742                 Jessica calls quits power abs 515   negative   \n",
       "4521  like cant actually put pressure ankle hop arou...  negative   \n",
       "...                                                 ...       ...   \n",
       "6412               Agree  Phone WiFi LifeStyle QatarDay  positive   \n",
       "8285                  Rl191459Alex Hey thank following   positive   \n",
       "7853                      See yah Sunday carmenkvarnen   positive   \n",
       "1095                                 didnt took photos   negative   \n",
       "6929                       LondonLycra see legs lycra p  positive   \n",
       "\n",
       "                                          stemmed_tweet  \n",
       "6252  malan_sanjaya ye switch back lap optim window ...  \n",
       "4684             mtap tomorrow mean sleep earli tonight  \n",
       "1731                                   gotham3 sad view  \n",
       "4742                     jessica call quit power ab 515  \n",
       "4521  like cant actual put pressur ankl hop around h...  \n",
       "...                                                 ...  \n",
       "6412                  agre phone wifi lifestyl qatarday  \n",
       "8285                      rl191459alex hey thank follow  \n",
       "7853                       see yah sunday carmenkvarnen  \n",
       "1095                                   didnt took photo  \n",
       "6929                        londonlycra see leg lycra p  \n",
       "\n",
       "[2000 rows x 3 columns]"
      ]
     },
     "execution_count": 11,
     "metadata": {},
     "output_type": "execute_result"
    }
   ],
   "source": [
    "test_set"
   ]
  },
  {
   "cell_type": "markdown",
   "id": "687e23ef-dafd-4183-b2f1-86089e281dd8",
   "metadata": {
    "id": "687e23ef-dafd-4183-b2f1-86089e281dd8"
   },
   "source": [
    "#### **Model training**"
   ]
  },
  {
   "cell_type": "markdown",
   "id": "0c40fa44-01ad-4788-98b9-9c8f0c1252ef",
   "metadata": {
    "id": "0c40fa44-01ad-4788-98b9-9c8f0c1252ef"
   },
   "source": [
    "**1.11) Create bag of words features for each tweet in the development dataset**"
   ]
  },
  {
   "cell_type": "code",
   "execution_count": 28,
   "id": "3d34c009",
   "metadata": {
    "id": "3d34c009"
   },
   "outputs": [
    {
     "name": "stdout",
     "output_type": "stream",
     "text": [
      "[[0 0 0 ... 0 0 0]\n",
      " [0 0 0 ... 0 0 0]\n",
      " [0 0 0 ... 0 0 0]\n",
      " ...\n",
      " [0 0 0 ... 0 0 0]\n",
      " [0 0 0 ... 0 0 0]\n",
      " [0 0 0 ... 0 0 0]]\n"
     ]
    }
   ],
   "source": [
    "# Your Code Here\n",
    "\n",
    "vectorizer = CountVectorizer(stop_words='english', ngram_range=(1,2), max_features=1000)\n",
    "bow_features = vectorizer.fit_transform(dev_set['stemmed_tweet'])\n",
    "bow_features = bow_features.toarray()\n",
    "\n",
    "print(bow_features)"
   ]
  },
  {
   "cell_type": "markdown",
   "id": "4baf65cd-019b-4ff4-b93c-3ca8cfffca8e",
   "metadata": {
    "id": "4baf65cd-019b-4ff4-b93c-3ca8cfffca8e"
   },
   "source": [
    "**1.12) Train a Logistic Regression model on the development dataset**"
   ]
  },
  {
   "cell_type": "code",
   "execution_count": 29,
   "id": "3433a6b0-408d-462e-9072-3495b21bc97b",
   "metadata": {
    "id": "3433a6b0-408d-462e-9072-3495b21bc97b"
   },
   "outputs": [
    {
     "name": "stdout",
     "output_type": "stream",
     "text": [
      "Accuracy on development set:  0.784625\n"
     ]
    }
   ],
   "source": [
    "# Your Code Here\n",
    "\n",
    "lr_model_bow = LogisticRegression()\n",
    "lr_model_bow.fit(bow_features, dev_set['Label'])\n",
    "\n",
    "print(\"Accuracy on development set: \", lr_model_bow.score(bow_features, dev_set['Label']))"
   ]
  },
  {
   "cell_type": "markdown",
   "id": "1c16c6f6-7ab2-4d7a-b9dc-098a72381340",
   "metadata": {
    "id": "1c16c6f6-7ab2-4d7a-b9dc-098a72381340"
   },
   "source": [
    "**1.13) Create TF-IDF features for each tweet in the development dataset**"
   ]
  },
  {
   "cell_type": "code",
   "execution_count": 30,
   "id": "7b417843-ffc4-4614-b2ef-964f8ec3e510",
   "metadata": {
    "id": "7b417843-ffc4-4614-b2ef-964f8ec3e510"
   },
   "outputs": [
    {
     "name": "stdout",
     "output_type": "stream",
     "text": [
      "[[0. 0. 0. ... 0. 0. 0.]\n",
      " [0. 0. 0. ... 0. 0. 0.]\n",
      " [0. 0. 0. ... 0. 0. 0.]\n",
      " ...\n",
      " [0. 0. 0. ... 0. 0. 0.]\n",
      " [0. 0. 0. ... 0. 0. 0.]\n",
      " [0. 0. 0. ... 0. 0. 0.]]\n"
     ]
    }
   ],
   "source": [
    "# Your Code Here\n",
    "\n",
    "tfidf_vectorizer = TfidfVectorizer(max_df=0.90, min_df=2, max_features=1000, stop_words='english')\n",
    "tfidf_features = tfidf_vectorizer.fit_transform(dev_set['stemmed_tweet'])\n",
    "\n",
    "print(tfidf_features.toarray())"
   ]
  },
  {
   "cell_type": "markdown",
   "id": "ea3c9776-aad9-4eda-b3c2-d9f6b3e52427",
   "metadata": {
    "id": "ea3c9776-aad9-4eda-b3c2-d9f6b3e52427"
   },
   "source": [
    "**1.14) Train the Logistic Regression model on the development dataset with TF-IDF features**"
   ]
  },
  {
   "cell_type": "code",
   "execution_count": 31,
   "id": "b8c7fe8b-61de-4daa-a338-74295a4902ce",
   "metadata": {
    "id": "b8c7fe8b-61de-4daa-a338-74295a4902ce",
    "scrolled": true
   },
   "outputs": [
    {
     "name": "stdout",
     "output_type": "stream",
     "text": [
      "Accuracy on development set:  0.786875\n"
     ]
    }
   ],
   "source": [
    "# Your Code Here\n",
    "\n",
    "lr_model_tfidf = LogisticRegression()\n",
    "lr_model_tfidf.fit(tfidf_features, dev_set['Label'])\n",
    "\n",
    "print(\"Accuracy on development set: \", lr_model_tfidf.score(tfidf_features, dev_set['Label']))"
   ]
  },
  {
   "cell_type": "markdown",
   "id": "ab0129e7-a0ea-473e-9ad1-667b44a13a92",
   "metadata": {
    "id": "ab0129e7-a0ea-473e-9ad1-667b44a13a92"
   },
   "source": [
    "**1.15) Compare the performance of the two models on the test dataset using a classification report and the scores obtained. Explain the difference in results obtained.**"
   ]
  },
  {
   "cell_type": "code",
   "execution_count": 32,
   "id": "C8NwWxJh33G7",
   "metadata": {
    "id": "C8NwWxJh33G7"
   },
   "outputs": [
    {
     "name": "stdout",
     "output_type": "stream",
     "text": [
      "Accuracy on Test set:  0.729\n",
      "              precision    recall  f1-score   support\n",
      "\n",
      "    negative       0.72      0.77      0.74      1012\n",
      "    positive       0.75      0.69      0.71       988\n",
      "\n",
      "    accuracy                           0.73      2000\n",
      "   macro avg       0.73      0.73      0.73      2000\n",
      "weighted avg       0.73      0.73      0.73      2000\n",
      "\n"
     ]
    }
   ],
   "source": [
    "# Your Code Here\n",
    "\n",
    "bow_test_features = vectorizer.transform(test_set['stemmed_tweet'])\n",
    "bow_test_features = bow_test_features.toarray()\n",
    "\n",
    "y_pred_bow = lr_model_bow.predict(bow_test_features)\n",
    "\n",
    "print(\"Accuracy on Test set: \", lr_model_bow.score(bow_test_features, test_set['Label']))\n",
    "\n",
    "print(classification_report(test_set[\"Label\"], y_pred_bow))"
   ]
  },
  {
   "cell_type": "code",
   "execution_count": 33,
   "id": "2dba518b",
   "metadata": {},
   "outputs": [
    {
     "name": "stdout",
     "output_type": "stream",
     "text": [
      "Accuracy on Test set:  0.738\n",
      "              precision    recall  f1-score   support\n",
      "\n",
      "    negative       0.72      0.78      0.75      1012\n",
      "    positive       0.75      0.70      0.72       988\n",
      "\n",
      "    accuracy                           0.74      2000\n",
      "   macro avg       0.74      0.74      0.74      2000\n",
      "weighted avg       0.74      0.74      0.74      2000\n",
      "\n"
     ]
    }
   ],
   "source": [
    "tfidf_test_features = tfidf_vectorizer.transform(test_set['stemmed_tweet'])\n",
    "y_pred_tfidf = lr_model_tfidf.predict(tfidf_test_features)\n",
    "\n",
    "print(\"Accuracy on Test set: \", lr_model_tfidf.score(tfidf_test_features, test_set['Label']))\n",
    "\n",
    "print(classification_report(test_set['Label'], y_pred_tfidf))"
   ]
  },
  {
   "cell_type": "markdown",
   "id": "uo7vBVNC-_nK",
   "metadata": {
    "id": "uo7vBVNC-_nK"
   },
   "source": [
    "*Explanation here"
   ]
  },
  {
   "cell_type": "markdown",
   "id": "2fb0920b",
   "metadata": {},
   "source": [
    "The performance of the TF-IDF model is expected to be better than the BOW model because it can capture more meaningful features and reduce the impact of noise caused by common words.\n",
    "\n",
    "The bag-of-words approach represents a text document as a bag of words, without considering their order or context. It counts the frequency of each word in the document and constructs a feature vector for each document based on the frequency of each word. It lacks the ability to capture the semantic relationship between words and treats all words equally.\n",
    "\n",
    "On the other hand, the TF-IDF approach considers the importance of words in a document relative to their frequency in the entire corpus. It reduces the weight of common words and increases the weight of rare words that are more informative. Therefore, it can capture the semantic meaning of words and their importance in a document."
   ]
  },
  {
   "cell_type": "code",
   "execution_count": null,
   "id": "661888f1",
   "metadata": {},
   "outputs": [],
   "source": []
  }
 ],
 "metadata": {
  "colab": {
   "provenance": []
  },
  "kernelspec": {
   "display_name": "Python 3 (ipykernel)",
   "language": "python",
   "name": "python3"
  },
  "language_info": {
   "codemirror_mode": {
    "name": "ipython",
    "version": 3
   },
   "file_extension": ".py",
   "mimetype": "text/x-python",
   "name": "python",
   "nbconvert_exporter": "python",
   "pygments_lexer": "ipython3",
   "version": "3.9.12"
  }
 },
 "nbformat": 4,
 "nbformat_minor": 5
}
